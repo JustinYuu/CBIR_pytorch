{
  "nbformat": 4,
  "nbformat_minor": 0,
  "metadata": {
    "colab": {
      "name": "CMT.ipynb",
      "private_outputs": true,
      "provenance": [],
      "include_colab_link": true
    },
    "kernelspec": {
      "name": "python3",
      "display_name": "Python 3"
    },
    "language_info": {
      "name": "python"
    },
    "accelerator": "GPU"
  },
  "cells": [
    {
      "cell_type": "markdown",
      "metadata": {
        "id": "view-in-github",
        "colab_type": "text"
      },
      "source": [
        "<a href=\"https://colab.research.google.com/github/JustinYuu/CBIR_pytorch/blob/master/CMT.ipynb\" target=\"_parent\"><img src=\"https://colab.research.google.com/assets/colab-badge.svg\" alt=\"Open In Colab\"/></a>"
      ]
    },
    {
      "cell_type": "markdown",
      "source": [
        "# **Demo of Controllable Music Transformer**\n",
        "\n",
        "We provide a colab notebook for running inference with CMT. You can upload a video and generate a background music using this notebook."
      ],
      "metadata": {
        "id": "Qx-JUsBYpv3X"
      }
    },
    {
      "cell_type": "markdown",
      "source": [
        "# 1. Preparation"
      ],
      "metadata": {
        "id": "iGsKCYiR8ZBy"
      }
    },
    {
      "cell_type": "markdown",
      "source": [
        "Clone the repo"
      ],
      "metadata": {
        "id": "t34LcwtQGq7_"
      }
    },
    {
      "cell_type": "code",
      "execution_count": null,
      "metadata": {
        "id": "YMTYugKn6NNp"
      },
      "outputs": [],
      "source": [
        "import os\n",
        "from google.colab import files\n",
        "import json\n",
        "\n",
        "os.chdir('/content')\n",
        "!git clone https://github.com/wzk1015/video-bgm-generation\n",
        "os.chdir('/content/video-bgm-generation')"
      ]
    },
    {
      "cell_type": "markdown",
      "source": [
        "Download checkpoint and soundfont\n",
        "\n"
      ],
      "metadata": {
        "id": "X9ZN2EbvG9J4"
      }
    },
    {
      "cell_type": "code",
      "source": [
        "!gsutil -m cp gs://cmt/loss_8_params.pt /content/video-bgm-generation/exp/\n",
        "!gsutil -m cp gs://magentadata/soundfonts/SGM-v2.01-Sal-Guit-Bass-V1.3.sf2 /content/video-bgm-generation/"
      ],
      "metadata": {
        "id": "c7XER9vH8mfb"
      },
      "execution_count": null,
      "outputs": []
    },
    {
      "cell_type": "markdown",
      "source": [
        "Install dependencies"
      ],
      "metadata": {
        "id": "b4RRCIybl7_I"
      }
    },
    {
      "cell_type": "code",
      "source": [
        "!apt-get update && apt-get install libfluidsynth1 build-essential libasound2-dev libjack-dev fluidsynth"
      ],
      "metadata": {
        "id": "efg5Ya8cJL5o"
      },
      "execution_count": null,
      "outputs": []
    },
    {
      "cell_type": "code",
      "source": [
        "!pip install --upgrade pip\n",
        "# this may take ~15 minutes\n",
        "!pip install pytorch-fast-transformers==0.3.0\n",
        "# Note: Version of pytorch-fast-transformers is tricky - depends on your randomly assigned colab GPU, it could be 0.3.0 or 0.4.0 or others.\n",
        "# Incorrect fast-transformers version could lead to Errors or generating awful results for unknown reasons,\n",
        "# so you should try different versions, or refer to https://github.com/idiap/fast-transformers\n",
        "!cd /content/video-bgm-generation\n",
        "!pip install -r py3_requirements.txt\n",
        "os.chdir(\"/content/video-bgm-generation/src/video2npz/visbeat3/\")\n",
        "!python setup.py install"
      ],
      "metadata": {
        "id": "SkRSrynzSrA-"
      },
      "execution_count": null,
      "outputs": []
    },
    {
      "cell_type": "markdown",
      "source": [
        "# 2. Process input video"
      ],
      "metadata": {
        "id": "ygRjsNf5F0FT"
      }
    },
    {
      "cell_type": "code",
      "source": [
        "!cd /content/video-bgm-generation/\n",
        "!pip install -r /content/video-bgm-generation/py3_requirements.txt"
      ],
      "metadata": {
        "id": "trUy0XqNV3bs"
      },
      "execution_count": null,
      "outputs": []
    },
    {
      "cell_type": "markdown",
      "source": [
        "Upload your video\n",
        "\n",
        "It is recommended to use videos **less than 2 minutes**, otherwise it gets really slow"
      ],
      "metadata": {
        "id": "QMS5SlFOrVv-"
      }
    },
    {
      "cell_type": "code",
      "source": [
        "os.chdir(\"/content/video-bgm-generation/\")\n",
        "uploaded = files.upload()\n",
        "assert len(uploaded) == 1, \"upload one video file only\"\n",
        "filename = list(uploaded.keys())[0]\n",
        "os.system(f'mv {filename} videos/test_raw.mp4')"
      ],
      "metadata": {
        "id": "gczMG7TyQYCC"
      },
      "execution_count": null,
      "outputs": []
    },
    {
      "cell_type": "markdown",
      "source": [
        "Convert to 360p to speed up extracting optical flow and visbeats"
      ],
      "metadata": {
        "id": "dR5dCMo5qfk-"
      }
    },
    {
      "cell_type": "code",
      "source": [
        "os.chdir(\"/content/video-bgm-generation/videos/\")\n",
        "!rm test.mp4\n",
        "!ffmpeg -i test_raw.mp4 -strict -2 -vf scale=-1:360 test.mp4"
      ],
      "metadata": {
        "id": "RzRrVu9RqTZ6"
      },
      "execution_count": null,
      "outputs": []
    },
    {
      "cell_type": "markdown",
      "source": [
        "Extracting optical flow and visbeats, convert video into npz file"
      ],
      "metadata": {
        "id": "sgm_TOq7QYXn"
      }
    },
    {
      "cell_type": "code",
      "source": [
        "os.chdir(\"/content/video-bgm-generation/src/video2npz/\")\n",
        "!rm -r VisBeatAssets/ fig/ flow/ image/ optical_flow/\n",
        "!bash video2npz.sh ../../videos/test.mp4\n",
        "# extracting optical flow and visbeats may be slow"
      ],
      "metadata": {
        "id": "y_l8VDLFFE-c"
      },
      "execution_count": null,
      "outputs": []
    },
    {
      "cell_type": "markdown",
      "source": [
        "# 3. Run the model to generate background music"
      ],
      "metadata": {
        "id": "-JASD-zxJZJt"
      }
    },
    {
      "cell_type": "markdown",
      "source": [
        "Run inference to generate MIDI (.mid) output"
      ],
      "metadata": {
        "id": "TpZnfeIsHhyM"
      }
    },
    {
      "cell_type": "code",
      "source": [
        "os.chdir(\"/content/video-bgm-generation/src/\")\n",
        "!python gen_midi_conditional.py -f \"../inference/test.npz\" -c \"../exp/loss_8_params.pt\" -n 1"
      ],
      "metadata": {
        "id": "Xxus1H-XGHXj"
      },
      "execution_count": null,
      "outputs": []
    },
    {
      "cell_type": "markdown",
      "source": [
        "Convert midi into audio: use **GarageBand (recommended)** or midi2audio\n",
        "\n",
        "Remember to **set tempo to the value of tempo in video2npz/metadata.json**"
      ],
      "metadata": {
        "id": "pR3rUJWIJnVp"
      }
    },
    {
      "cell_type": "code",
      "source": [
        "os.chdir(\"/content/video-bgm-generation/src/\")\n",
        "files.download('../inference/test.npz_0.mid')\n",
        "\n",
        "with open(\"video2npz/metadata.json\") as f:\n",
        "    tempo = json.load(f)['tempo']\n",
        "    print(\"tempo:\", tempo)"
      ],
      "metadata": {
        "id": "lKR7qWinMUFM"
      },
      "execution_count": null,
      "outputs": []
    },
    {
      "cell_type": "markdown",
      "source": [
        "Generate audio with midi2audio\n",
        "\n",
        "Instead of running this cell, we recommend using GarageBand or other softwares, since their soundfonts are better. But this also works fine"
      ],
      "metadata": {
        "id": "GzEb08C4ovjD"
      }
    },
    {
      "cell_type": "code",
      "source": [
        "import note_seq\n",
        "from pretty_midi import PrettyMIDI\n",
        "import midi2audio\n",
        "import numpy as np\n",
        "import io\n",
        "import scipy\n",
        "\n",
        "SAMPLE_RATE = 16000\n",
        "SF2_PATH = '/content/video-bgm-generation/SGM-v2.01-Sal-Guit-Bass-V1.3.sf2'\n",
        "os.chdir(\"/content/video-bgm-generation/inference/\")\n",
        "\n",
        "input_mid = 'test.npz_0.mid'\n",
        "midi_obj = PrettyMIDI(input_mid)\n",
        "# convert tempo\n",
        "midi_length = midi_obj.get_end_time()\n",
        "midi_obj.adjust_times([0, midi_length], [0, midi_length*120/tempo])\n",
        "processed_mid = input_mid[:-4] + \"_processed.mid\"\n",
        "midi_obj.write(processed_mid)\n",
        "print(\"converting into mp3\")\n",
        "fs = midi2audio.FluidSynth(SF2_PATH, sample_rate=SAMPLE_RATE)\n",
        "fs.midi_to_audio(processed_mid, \"music.mp3\")\n",
        "\n",
        "print(\"playing music\")\n",
        "ns = note_seq.midi_io.midi_to_note_sequence(midi_obj)\n",
        "note_seq.play_sequence(ns, synth=note_seq.fluidsynth, sample_rate=SAMPLE_RATE, sf2_path=SF2_PATH)\n",
        "note_seq.plot_sequence(ns)\n",
        ""
      ],
      "metadata": {
        "id": "fZHzA0UtKDWa"
      },
      "execution_count": null,
      "outputs": []
    },
    {
      "cell_type": "markdown",
      "source": [
        "Combine original video and audio into video with BGM\n",
        "\n",
        "Generate/upload the audio file under `inference`, name it as `music.mp3`, and run this to combine video and music"
      ],
      "metadata": {
        "id": "KKObBCKBKlU1"
      }
    },
    {
      "cell_type": "code",
      "source": [
        "os.chdir(\"/content/video-bgm-generation/inference/\")\n",
        "!rm output.mp4\n",
        "!ffmpeg -i ../videos/test_raw.mp4 -i music.mp3 -c:v copy -c:a aac -strict experimental -map 0:v:0 -map 1:a:0 output.mp4\n",
        "files.download('output.mp4')"
      ],
      "metadata": {
        "id": "SqNLXFzmLPjP"
      },
      "execution_count": null,
      "outputs": []
    }
  ]
}